{
 "cells": [
  {
   "cell_type": "code",
   "execution_count": 135,
   "id": "2782634b-3c33-4ccc-8172-5b290c28574c",
   "metadata": {},
   "outputs": [],
   "source": [
    "import torch\n",
    "import torch.nn as nn\n",
    "from torch import optim\n",
    "from torch.utils.data import DataLoader\n",
    "from torch.utils.data.dataset import Dataset\n",
    "import torch.nn.functional as F\n",
    "from datasets import load_dataset\n",
    "import torchvision\n",
    "from torchvision import transforms\n",
    "import numpy as np\n"
   ]
  },
  {
   "cell_type": "code",
   "execution_count": 136,
   "id": "7233b0ca-9d1d-4133-8769-3d9cd9866fd7",
   "metadata": {},
   "outputs": [],
   "source": [
    "### Hyperparams \n",
    "batch_size = 64\n",
    "num_workers = 4\n",
    "validation_ratio = 0.2"
   ]
  },
  {
   "cell_type": "code",
   "execution_count": 137,
   "id": "4c4b4104-6e6d-46a3-b1ba-0b6ee2b5eac9",
   "metadata": {},
   "outputs": [],
   "source": [
    "transform = transforms.Compose([\n",
    "    transforms.RandomHorizontalFlip(),\n",
    "    transforms.RandomRotation(10),\n",
    "    transforms.ColorJitter(brightness=0.2, contrast=0.2),\n",
    "    transforms.ToTensor(),\n",
    "    transforms.Normalize((0.5,0.5,0.5),(0.5,0.5,0.5)),\n",
    "])\n"
   ]
  },
  {
   "cell_type": "code",
   "execution_count": 138,
   "id": "256fe92f-ca80-4106-8676-b7de48b019dc",
   "metadata": {},
   "outputs": [
    {
     "name": "stdout",
     "output_type": "stream",
     "text": [
      "Files already downloaded and verified\n",
      "Files already downloaded and verified\n",
      "10000\n",
      "40000\n"
     ]
    }
   ],
   "source": [
    "path = r'C:\\python\\datasets_storage'\n",
    "test_data = torchvision.datasets.CIFAR100(root=path,train=False,download=True, transform=transform)\n",
    "dataset_train = torchvision.datasets.CIFAR100(root=path,train=True,download=True, transform=transform)\n",
    "\n",
    "train_data,validation_data=torch.utils.data.random_split(dataset_train,[int((1-validation_ratio)*len(dataset_train)), int((validation_ratio)*len(dataset_train))])\n",
    "print(len(validation_data))\n",
    "print(len(train_data))"
   ]
  },
  {
   "cell_type": "code",
   "execution_count": 139,
   "id": "6ac711f6-648c-4a85-9966-45f3ca80e478",
   "metadata": {},
   "outputs": [],
   "source": [
    "train_loader = DataLoader(train_data, batch_size=batch_size, pin_memory=True, shuffle=True)\n",
    "val_loader = DataLoader(validation_data, batch_size=batch_size, pin_memory=True)\n",
    "test_loader = DataLoader(test_data, batch_size=batch_size,shuffle=True, pin_memory=True)"
   ]
  },
  {
   "cell_type": "code",
   "execution_count": 140,
   "id": "35607460-4344-4279-be1a-a9fd36ce2afc",
   "metadata": {},
   "outputs": [],
   "source": [
    "def check_device():\n",
    "    if torch.cuda.is_available:\n",
    "        return torch.device('cuda')\n",
    "    else:\n",
    "        return torch.device('cpu')\n",
    "def move_device(tensor,device):\n",
    "    if isinstance(tensor,(list,tuple)):    \n",
    "      return[move_device(element,device) for element in tensor]  \n",
    "    return tensor.to(device,non_blocking=True)\n",
    "class DeviceDataloader():\n",
    "    def __init__(self,dataloader,device):\n",
    "        self.dataloader = dataloader\n",
    "        self.device = device\n",
    "    def __iter__(self):\n",
    "        # transfer ecach batch and return\n",
    "        for i in self.dataloader:\n",
    "           yield move_device(i, self.device)\n",
    "    def __len__(self):\n",
    "\n",
    "        return len(self.dataloader)\n",
    "device = check_device()\n",
    "\n",
    "train_dl = DeviceDataloader(train_loader, device)\n",
    "test_dl = DeviceDataloader(test_loader, device)\n",
    "val_dl  = DeviceDataloader(val_loader, device)\n",
    "#len(train_dl)"
   ]
  },
  {
   "cell_type": "code",
   "execution_count": 141,
   "id": "e6ac72ca-658e-4268-9098-4081aaa39bc3",
   "metadata": {},
   "outputs": [
    {
     "name": "stdout",
     "output_type": "stream",
     "text": [
      "CNN_model(\n",
      "  (conv1): Sequential(\n",
      "    (0): Conv2d(3, 32, kernel_size=(3, 3), stride=(1, 1), padding=(1, 1))\n",
      "    (1): BatchNorm2d(32, eps=1e-05, momentum=0.1, affine=True, track_running_stats=True)\n",
      "    (2): ReLU()\n",
      "    (3): MaxPool2d(kernel_size=2, stride=2, padding=0, dilation=1, ceil_mode=False)\n",
      "    (4): Dropout(p=0.3, inplace=False)\n",
      "  )\n",
      "  (conv2): Sequential(\n",
      "    (0): Conv2d(32, 64, kernel_size=(3, 3), stride=(1, 1), padding=(1, 1))\n",
      "    (1): BatchNorm2d(64, eps=1e-05, momentum=0.1, affine=True, track_running_stats=True)\n",
      "    (2): ReLU()\n",
      "    (3): MaxPool2d(kernel_size=2, stride=2, padding=0, dilation=1, ceil_mode=False)\n",
      "    (4): Dropout(p=0.3, inplace=False)\n",
      "  )\n",
      "  (conv3): Sequential(\n",
      "    (0): Conv2d(64, 128, kernel_size=(3, 3), stride=(1, 1), padding=(1, 1))\n",
      "    (1): BatchNorm2d(128, eps=1e-05, momentum=0.1, affine=True, track_running_stats=True)\n",
      "    (2): ReLU()\n",
      "    (3): MaxPool2d(kernel_size=2, stride=2, padding=0, dilation=1, ceil_mode=False)\n",
      "    (4): Dropout(p=0.3, inplace=False)\n",
      "  )\n",
      "  (conv4): Sequential(\n",
      "    (0): Conv2d(128, 256, kernel_size=(3, 3), stride=(1, 1), padding=(1, 1))\n",
      "    (1): BatchNorm2d(256, eps=1e-05, momentum=0.1, affine=True, track_running_stats=True)\n",
      "    (2): ReLU()\n",
      "    (3): MaxPool2d(kernel_size=2, stride=2, padding=0, dilation=1, ceil_mode=False)\n",
      "    (4): Dropout(p=0.3, inplace=False)\n",
      "  )\n",
      "  (hidden_layer): Linear(in_features=1024, out_features=512, bias=True)\n",
      "  (output_layer): Linear(in_features=512, out_features=100, bias=True)\n",
      ")\n"
     ]
    }
   ],
   "source": [
    "class CNN_model(nn.Module):\n",
    "    def __init__(self, dropout_rate=0.3):\n",
    "        super(CNN_model,self).__init__()\n",
    "        self.conv1 = nn.Sequential(\n",
    "            nn.Conv2d(in_channels = 3, out_channels = 32, kernel_size = 3, stride = 1, padding = 1),\n",
    "            nn.BatchNorm2d(32), # out channels, helps normalize batches and imporves overall better performance\n",
    "            nn.ReLU(),\n",
    "            torch.nn.MaxPool2d(kernel_size = 2),\n",
    "            nn.Dropout(dropout_rate)\n",
    "        )\n",
    "        self.conv2 = nn.Sequential(\n",
    "            nn.Conv2d(in_channels = 32, out_channels = 64, kernel_size = 3, stride = 1, padding = 1),\n",
    "            nn.BatchNorm2d(64),\n",
    "            nn.ReLU(),\n",
    "            torch.nn.MaxPool2d(kernel_size = 2),\n",
    "            nn.Dropout(dropout_rate)\n",
    "        )\n",
    "        self.conv3 = nn.Sequential(\n",
    "            nn.Conv2d(in_channels = 64, out_channels = 128, kernel_size = 3, stride = 1, padding = 1),\n",
    "            nn.BatchNorm2d(128),\n",
    "            nn.ReLU(),\n",
    "            nn.MaxPool2d(kernel_size = 2),\n",
    "            nn.Dropout(dropout_rate)\n",
    "        )\n",
    "        self.conv4 = nn.Sequential(\n",
    "            nn.Conv2d(in_channels = 128, out_channels = 256, kernel_size = 3, stride = 1, padding = 1),\n",
    "            nn.BatchNorm2d(256),\n",
    "            nn.ReLU(),\n",
    "            nn.MaxPool2d(kernel_size = 2),\n",
    "            nn.Dropout(dropout_rate)\n",
    "        )\n",
    "        self.hidden_layer = nn.Linear(256 * 2 * 2, 512)\n",
    "        self.output_layer = nn.Linear(512, 100)\n",
    "    def forward(self, x):\n",
    "        output = self.conv1(x)\n",
    "        output = self.conv2(output)\n",
    "        output = self.conv3(output)\n",
    "        output = self.conv4(output)\n",
    "        #flattening \n",
    "        output = output.view(-1, 256 * 2 * 2)\n",
    "        # fully connected layers\n",
    "        output = self.hidden_layer(output)\n",
    "        output = self.output_layer(output)\n",
    "        return output\n",
    "model = CNN_model()\n",
    "print(model)"
   ]
  },
  {
   "cell_type": "code",
   "execution_count": 142,
   "id": "9eeb8c85-228f-4930-9e05-e2e3595089a3",
   "metadata": {},
   "outputs": [],
   "source": [
    "criterion = nn.CrossEntropyLoss(label_smoothing=0.1)\n",
    "#optimizer = optim.SGD(model.parameters(), lr= 3e-3, momentum=0.9)\n",
    "optimizer = optim.AdamW(model.parameters(), lr=3e-3)"
   ]
  },
  {
   "cell_type": "code",
   "execution_count": 143,
   "id": "a5d6c0ae-fb48-48a9-a793-3f5256ab9112",
   "metadata": {},
   "outputs": [
    {
     "name": "stdout",
     "output_type": "stream",
     "text": [
      "True\n",
      "12.1\n"
     ]
    }
   ],
   "source": [
    "print(torch.cuda.is_available())\n",
    "print(torch.version.cuda if torch.cuda.is_available() else \"CUDA not found\")"
   ]
  },
  {
   "cell_type": "code",
   "execution_count": 144,
   "id": "96a12572-66f4-48e3-81a7-54fd13358283",
   "metadata": {},
   "outputs": [
    {
     "name": "stdout",
     "output_type": "stream",
     "text": [
      "Starting...\n"
     ]
    }
   ],
   "source": [
    "print('Starting...')\n",
    "epochs = 40\n",
    "model = model.to(device)\n",
    "def model_train(model, train_loader, criterion, optimizer):\n",
    "    for epoch in range(epochs):\n",
    "        model.train()\n",
    "        running_loss = 0.0\n",
    "        correct = 0\n",
    "        total = 0\n",
    "        for batch_idx,(images,targets) in enumerate(train_loader):\n",
    "            optimizer.zero_grad()\n",
    "            images,targets = images.to(device), targets.to(device)\n",
    "            outputs = model(images)\n",
    "            \n",
    "            loss = criterion(outputs, targets)\n",
    "            loss.backward()\n",
    "            optimizer.step()\n",
    "            \n",
    "            running_loss += loss.item()\n",
    "            _, predicted = outputs.max(1)\n",
    "            total += targets.size(0)\n",
    "            correct += predicted.eq(targets).sum().item() ### compares predicted lables to true lables and returns True/False\n",
    "            batch_idx += 1\n",
    "        \n",
    "            if batch_idx % 100 == 0:\n",
    "                print(f'Epoch\" {epoch + 1}/{epochs} | Loss:{running_loss} | '\n",
    "                      f'Loss: {running_loss / (batch_idx+1):.4f} | '\n",
    "                      f'Acc_train: {100.*correct/total:.2f}% | '\n",
    "                      f'Batch: {batch_idx / len(train_loader)}')\n",
    "def model_val(model, val_loader):\n",
    "        model.eval()\n",
    "        val_loss = 0.0\n",
    "        correct = 0\n",
    "        total = 0\n",
    "        for images, targets in val_loader:\n",
    "            with torch.no_grad():\n",
    "                images,targets = images.to(device), targets.to(device)\n",
    "                outputs = model(images)\n",
    "    \n",
    "                loss = criterion(outputs, targets)\n",
    "    \n",
    "                val_loss += loss.item()\n",
    "                _, predicted = outputs.max(1)\n",
    "                total += targets.size(0)\n",
    "                correct += predicted.eq(targets).sum().item()\n",
    "                return val_loss/len(val_loader), 100.* correct/total\n",
    "        print('Finished!')"
   ]
  },
  {
   "cell_type": "code",
   "execution_count": 145,
   "id": "8065a7dd-4e89-47e9-b09c-e66801e1de31",
   "metadata": {
    "scrolled": true
   },
   "outputs": [
    {
     "name": "stdout",
     "output_type": "stream",
     "text": [
      "Epoch\" 1/40 | Loss:532.0793266296387 | Loss: 5.2681 | Acc_train: 1.91% | Batch: 0.16\n",
      "Epoch\" 1/40 | Loss:980.4672708511353 | Loss: 4.8779 | Acc_train: 2.73% | Batch: 0.32\n",
      "Epoch\" 1/40 | Loss:1410.6894493103027 | Loss: 4.6867 | Acc_train: 3.38% | Batch: 0.48\n",
      "Epoch\" 1/40 | Loss:1830.2410144805908 | Loss: 4.5642 | Acc_train: 4.04% | Batch: 0.64\n",
      "Epoch\" 1/40 | Loss:2239.796248435974 | Loss: 4.4707 | Acc_train: 4.93% | Batch: 0.8\n",
      "Epoch\" 1/40 | Loss:2641.279309988022 | Loss: 4.3948 | Acc_train: 5.77% | Batch: 0.96\n",
      "Epoch\" 2/40 | Loss:390.18987679481506 | Loss: 3.8633 | Acc_train: 12.62% | Batch: 0.16\n",
      "Epoch\" 2/40 | Loss:779.2073669433594 | Loss: 3.8767 | Acc_train: 12.85% | Batch: 0.32\n",
      "Epoch\" 2/40 | Loss:1161.9605360031128 | Loss: 3.8603 | Acc_train: 13.33% | Batch: 0.48\n",
      "Epoch\" 2/40 | Loss:1543.0162997245789 | Loss: 3.8479 | Acc_train: 13.54% | Batch: 0.64\n",
      "Epoch\" 2/40 | Loss:1920.5884699821472 | Loss: 3.8335 | Acc_train: 13.90% | Batch: 0.8\n",
      "Epoch\" 2/40 | Loss:2292.458435535431 | Loss: 3.8144 | Acc_train: 14.39% | Batch: 0.96\n",
      "Epoch\" 3/40 | Loss:365.0081148147583 | Loss: 3.6139 | Acc_train: 17.02% | Batch: 0.16\n",
      "Epoch\" 3/40 | Loss:728.8477783203125 | Loss: 3.6261 | Acc_train: 17.49% | Batch: 0.32\n",
      "Epoch\" 3/40 | Loss:1092.321578502655 | Loss: 3.6290 | Acc_train: 18.05% | Batch: 0.48\n",
      "Epoch\" 3/40 | Loss:1452.9946179389954 | Loss: 3.6234 | Acc_train: 18.29% | Batch: 0.64\n",
      "Epoch\" 3/40 | Loss:1812.8315255641937 | Loss: 3.6184 | Acc_train: 18.52% | Batch: 0.8\n",
      "Epoch\" 3/40 | Loss:2171.0086483955383 | Loss: 3.6123 | Acc_train: 18.76% | Batch: 0.96\n",
      "Epoch\" 4/40 | Loss:353.5005328655243 | Loss: 3.5000 | Acc_train: 20.72% | Batch: 0.16\n",
      "Epoch\" 4/40 | Loss:710.4017453193665 | Loss: 3.5343 | Acc_train: 20.09% | Batch: 0.32\n",
      "Epoch\" 4/40 | Loss:1058.2072565555573 | Loss: 3.5156 | Acc_train: 20.70% | Batch: 0.48\n",
      "Epoch\" 4/40 | Loss:1407.2348775863647 | Loss: 3.5093 | Acc_train: 20.98% | Batch: 0.64\n",
      "Epoch\" 4/40 | Loss:1754.666118144989 | Loss: 3.5023 | Acc_train: 21.20% | Batch: 0.8\n",
      "Epoch\" 4/40 | Loss:2097.729440689087 | Loss: 3.4904 | Acc_train: 21.42% | Batch: 0.96\n",
      "Epoch\" 5/40 | Loss:341.01787996292114 | Loss: 3.3764 | Acc_train: 24.67% | Batch: 0.16\n",
      "Epoch\" 5/40 | Loss:682.2336061000824 | Loss: 3.3942 | Acc_train: 24.00% | Batch: 0.32\n",
      "Epoch\" 5/40 | Loss:1026.0007169246674 | Loss: 3.4086 | Acc_train: 23.98% | Batch: 0.48\n",
      "Epoch\" 5/40 | Loss:1365.5142903327942 | Loss: 3.4053 | Acc_train: 24.04% | Batch: 0.64\n",
      "Epoch\" 5/40 | Loss:1705.837022304535 | Loss: 3.4049 | Acc_train: 24.10% | Batch: 0.8\n",
      "Epoch\" 5/40 | Loss:2042.6999595165253 | Loss: 3.3988 | Acc_train: 24.12% | Batch: 0.96\n",
      "Epoch\" 6/40 | Loss:333.99899077415466 | Loss: 3.3069 | Acc_train: 25.41% | Batch: 0.16\n",
      "Epoch\" 6/40 | Loss:668.0238626003265 | Loss: 3.3235 | Acc_train: 25.51% | Batch: 0.32\n",
      "Epoch\" 6/40 | Loss:1003.541446685791 | Loss: 3.3340 | Acc_train: 25.53% | Batch: 0.48\n",
      "Epoch\" 6/40 | Loss:1336.3552267551422 | Loss: 3.3326 | Acc_train: 25.76% | Batch: 0.64\n",
      "Epoch\" 6/40 | Loss:1668.6950368881226 | Loss: 3.3307 | Acc_train: 25.77% | Batch: 0.8\n",
      "Epoch\" 6/40 | Loss:1999.6916925907135 | Loss: 3.3273 | Acc_train: 25.84% | Batch: 0.96\n",
      "Epoch\" 7/40 | Loss:326.9395203590393 | Loss: 3.2370 | Acc_train: 27.69% | Batch: 0.16\n",
      "Epoch\" 7/40 | Loss:656.6064047813416 | Loss: 3.2667 | Acc_train: 27.26% | Batch: 0.32\n",
      "Epoch\" 7/40 | Loss:985.8393979072571 | Loss: 3.2752 | Acc_train: 26.77% | Batch: 0.48\n",
      "Epoch\" 7/40 | Loss:1316.0974581241608 | Loss: 3.2820 | Acc_train: 26.66% | Batch: 0.64\n",
      "Epoch\" 7/40 | Loss:1644.7742533683777 | Loss: 3.2830 | Acc_train: 26.69% | Batch: 0.8\n",
      "Epoch\" 7/40 | Loss:1971.1439678668976 | Loss: 3.2798 | Acc_train: 26.91% | Batch: 0.96\n",
      "Epoch\" 8/40 | Loss:324.84913444519043 | Loss: 3.2163 | Acc_train: 28.81% | Batch: 0.16\n",
      "Epoch\" 8/40 | Loss:651.449569940567 | Loss: 3.2410 | Acc_train: 28.23% | Batch: 0.32\n",
      "Epoch\" 8/40 | Loss:974.8678634166718 | Loss: 3.2388 | Acc_train: 28.47% | Batch: 0.48\n",
      "Epoch\" 8/40 | Loss:1295.7990248203278 | Loss: 3.2314 | Acc_train: 28.56% | Batch: 0.64\n",
      "Epoch\" 8/40 | Loss:1618.041372537613 | Loss: 3.2296 | Acc_train: 28.60% | Batch: 0.8\n",
      "Epoch\" 8/40 | Loss:1942.2310242652893 | Loss: 3.2317 | Acc_train: 28.50% | Batch: 0.96\n",
      "Epoch\" 9/40 | Loss:319.15138125419617 | Loss: 3.1599 | Acc_train: 29.19% | Batch: 0.16\n",
      "Epoch\" 9/40 | Loss:638.5373227596283 | Loss: 3.1768 | Acc_train: 29.01% | Batch: 0.32\n",
      "Epoch\" 9/40 | Loss:957.2561337947845 | Loss: 3.1803 | Acc_train: 29.08% | Batch: 0.48\n",
      "Epoch\" 9/40 | Loss:1276.1515791416168 | Loss: 3.1824 | Acc_train: 29.26% | Batch: 0.64\n",
      "Epoch\" 9/40 | Loss:1594.6992297172546 | Loss: 3.1830 | Acc_train: 29.25% | Batch: 0.8\n",
      "Epoch\" 9/40 | Loss:1915.0107471942902 | Loss: 3.1864 | Acc_train: 29.24% | Batch: 0.96\n",
      "Epoch\" 10/40 | Loss:316.9886302947998 | Loss: 3.1385 | Acc_train: 30.73% | Batch: 0.16\n",
      "Epoch\" 10/40 | Loss:632.6701984405518 | Loss: 3.1476 | Acc_train: 30.40% | Batch: 0.32\n",
      "Epoch\" 10/40 | Loss:949.5901880264282 | Loss: 3.1548 | Acc_train: 30.17% | Batch: 0.48\n",
      "Epoch\" 10/40 | Loss:1265.0475859642029 | Loss: 3.1547 | Acc_train: 30.18% | Batch: 0.64\n",
      "Epoch\" 10/40 | Loss:1581.2203178405762 | Loss: 3.1561 | Acc_train: 30.20% | Batch: 0.8\n",
      "Epoch\" 10/40 | Loss:1898.2345223426819 | Loss: 3.1585 | Acc_train: 30.13% | Batch: 0.96\n",
      "Epoch\" 11/40 | Loss:311.03068804740906 | Loss: 3.0795 | Acc_train: 31.12% | Batch: 0.16\n",
      "Epoch\" 11/40 | Loss:628.652604341507 | Loss: 3.1276 | Acc_train: 30.85% | Batch: 0.32\n",
      "Epoch\" 11/40 | Loss:943.0659644603729 | Loss: 3.1331 | Acc_train: 30.82% | Batch: 0.48\n",
      "Epoch\" 11/40 | Loss:1256.6645247936249 | Loss: 3.1338 | Acc_train: 30.70% | Batch: 0.64\n",
      "Epoch\" 11/40 | Loss:1570.8420867919922 | Loss: 3.1354 | Acc_train: 30.57% | Batch: 0.8\n",
      "Epoch\" 11/40 | Loss:1882.2149920463562 | Loss: 3.1318 | Acc_train: 30.56% | Batch: 0.96\n",
      "Epoch\" 12/40 | Loss:305.1394817829132 | Loss: 3.0212 | Acc_train: 31.97% | Batch: 0.16\n",
      "Epoch\" 12/40 | Loss:616.6018271446228 | Loss: 3.0677 | Acc_train: 31.66% | Batch: 0.32\n",
      "Epoch\" 12/40 | Loss:926.7881453037262 | Loss: 3.0790 | Acc_train: 31.73% | Batch: 0.48\n",
      "Epoch\" 12/40 | Loss:1237.7362418174744 | Loss: 3.0866 | Acc_train: 31.76% | Batch: 0.64\n",
      "Epoch\" 12/40 | Loss:1549.4642100334167 | Loss: 3.0927 | Acc_train: 31.65% | Batch: 0.8\n",
      "Epoch\" 12/40 | Loss:1860.4524245262146 | Loss: 3.0956 | Acc_train: 31.51% | Batch: 0.96\n",
      "Epoch\" 13/40 | Loss:307.26236629486084 | Loss: 3.0422 | Acc_train: 31.59% | Batch: 0.16\n",
      "Epoch\" 13/40 | Loss:613.3232395648956 | Loss: 3.0514 | Acc_train: 31.88% | Batch: 0.32\n",
      "Epoch\" 13/40 | Loss:920.7738025188446 | Loss: 3.0590 | Acc_train: 32.05% | Batch: 0.48\n",
      "Epoch\" 13/40 | Loss:1226.684274673462 | Loss: 3.0591 | Acc_train: 32.12% | Batch: 0.64\n",
      "Epoch\" 13/40 | Loss:1532.410968542099 | Loss: 3.0587 | Acc_train: 32.33% | Batch: 0.8\n",
      "Epoch\" 13/40 | Loss:1842.8797936439514 | Loss: 3.0664 | Acc_train: 32.13% | Batch: 0.96\n",
      "Epoch\" 14/40 | Loss:304.3625428676605 | Loss: 3.0135 | Acc_train: 33.19% | Batch: 0.16\n",
      "Epoch\" 14/40 | Loss:611.977620601654 | Loss: 3.0447 | Acc_train: 32.59% | Batch: 0.32\n",
      "Epoch\" 14/40 | Loss:913.8213980197906 | Loss: 3.0360 | Acc_train: 32.96% | Batch: 0.48\n",
      "Epoch\" 14/40 | Loss:1216.8320124149323 | Loss: 3.0345 | Acc_train: 33.07% | Batch: 0.64\n",
      "Epoch\" 14/40 | Loss:1523.7145221233368 | Loss: 3.0413 | Acc_train: 33.05% | Batch: 0.8\n",
      "Epoch\" 14/40 | Loss:1829.3638806343079 | Loss: 3.0439 | Acc_train: 32.98% | Batch: 0.96\n",
      "Epoch\" 15/40 | Loss:301.82893323898315 | Loss: 2.9884 | Acc_train: 33.56% | Batch: 0.16\n",
      "Epoch\" 15/40 | Loss:602.2533700466156 | Loss: 2.9963 | Acc_train: 33.82% | Batch: 0.32\n",
      "Epoch\" 15/40 | Loss:906.7471966743469 | Loss: 3.0124 | Acc_train: 33.44% | Batch: 0.48\n",
      "Epoch\" 15/40 | Loss:1208.4450495243073 | Loss: 3.0136 | Acc_train: 33.41% | Batch: 0.64\n",
      "Epoch\" 15/40 | Loss:1511.0657918453217 | Loss: 3.0161 | Acc_train: 33.45% | Batch: 0.8\n",
      "Epoch\" 15/40 | Loss:1813.6953146457672 | Loss: 3.0178 | Acc_train: 33.48% | Batch: 0.96\n",
      "Epoch\" 16/40 | Loss:297.25710344314575 | Loss: 2.9431 | Acc_train: 34.12% | Batch: 0.16\n",
      "Epoch\" 16/40 | Loss:597.4437749385834 | Loss: 2.9724 | Acc_train: 34.14% | Batch: 0.32\n",
      "Epoch\" 16/40 | Loss:896.828186750412 | Loss: 2.9795 | Acc_train: 34.17% | Batch: 0.48\n",
      "Epoch\" 16/40 | Loss:1199.8843760490417 | Loss: 2.9922 | Acc_train: 33.80% | Batch: 0.64\n",
      "Epoch\" 16/40 | Loss:1499.81494474411 | Loss: 2.9936 | Acc_train: 33.89% | Batch: 0.8\n",
      "Epoch\" 16/40 | Loss:1799.5556945800781 | Loss: 2.9943 | Acc_train: 33.93% | Batch: 0.96\n",
      "Epoch\" 17/40 | Loss:298.415372133255 | Loss: 2.9546 | Acc_train: 34.59% | Batch: 0.16\n",
      "Epoch\" 17/40 | Loss:593.4509470462799 | Loss: 2.9525 | Acc_train: 35.33% | Batch: 0.32\n",
      "Epoch\" 17/40 | Loss:893.7520542144775 | Loss: 2.9693 | Acc_train: 34.85% | Batch: 0.48\n",
      "Epoch\" 17/40 | Loss:1193.9863409996033 | Loss: 2.9775 | Acc_train: 34.64% | Batch: 0.64\n",
      "Epoch\" 17/40 | Loss:1490.3670237064362 | Loss: 2.9748 | Acc_train: 34.75% | Batch: 0.8\n",
      "Epoch\" 17/40 | Loss:1788.5522420406342 | Loss: 2.9760 | Acc_train: 34.68% | Batch: 0.96\n",
      "Epoch\" 18/40 | Loss:294.86474442481995 | Loss: 2.9195 | Acc_train: 35.11% | Batch: 0.16\n",
      "Epoch\" 18/40 | Loss:586.7620024681091 | Loss: 2.9192 | Acc_train: 35.85% | Batch: 0.32\n",
      "Epoch\" 18/40 | Loss:881.9344320297241 | Loss: 2.9300 | Acc_train: 35.92% | Batch: 0.48\n",
      "Epoch\" 18/40 | Loss:1181.2535502910614 | Loss: 2.9458 | Acc_train: 35.70% | Batch: 0.64\n",
      "Epoch\" 18/40 | Loss:1479.270533323288 | Loss: 2.9526 | Acc_train: 35.48% | Batch: 0.8\n",
      "Epoch\" 18/40 | Loss:1775.60604763031 | Loss: 2.9544 | Acc_train: 35.58% | Batch: 0.96\n",
      "Epoch\" 19/40 | Loss:291.52675199508667 | Loss: 2.8864 | Acc_train: 37.00% | Batch: 0.16\n",
      "Epoch\" 19/40 | Loss:583.4579784870148 | Loss: 2.9028 | Acc_train: 36.69% | Batch: 0.32\n",
      "Epoch\" 19/40 | Loss:876.264796257019 | Loss: 2.9112 | Acc_train: 36.61% | Batch: 0.48\n",
      "Epoch\" 19/40 | Loss:1175.094010591507 | Loss: 2.9304 | Acc_train: 36.03% | Batch: 0.64\n",
      "Epoch\" 19/40 | Loss:1469.3980436325073 | Loss: 2.9329 | Acc_train: 36.02% | Batch: 0.8\n",
      "Epoch\" 19/40 | Loss:1767.3885486125946 | Loss: 2.9407 | Acc_train: 35.95% | Batch: 0.96\n",
      "Epoch\" 20/40 | Loss:290.1758587360382 | Loss: 2.8730 | Acc_train: 36.58% | Batch: 0.16\n",
      "Epoch\" 20/40 | Loss:580.1986227035522 | Loss: 2.8866 | Acc_train: 36.51% | Batch: 0.32\n",
      "Epoch\" 20/40 | Loss:874.878799200058 | Loss: 2.9066 | Acc_train: 36.37% | Batch: 0.48\n",
      "Epoch\" 20/40 | Loss:1171.2922070026398 | Loss: 2.9209 | Acc_train: 36.12% | Batch: 0.64\n",
      "Epoch\" 20/40 | Loss:1460.7199754714966 | Loss: 2.9156 | Acc_train: 36.26% | Batch: 0.8\n",
      "Epoch\" 20/40 | Loss:1755.2740466594696 | Loss: 2.9206 | Acc_train: 36.10% | Batch: 0.96\n",
      "Epoch\" 21/40 | Loss:286.97647762298584 | Loss: 2.8414 | Acc_train: 38.11% | Batch: 0.16\n",
      "Epoch\" 21/40 | Loss:576.7812688350677 | Loss: 2.8696 | Acc_train: 37.43% | Batch: 0.32\n",
      "Epoch\" 21/40 | Loss:867.7364733219147 | Loss: 2.8828 | Acc_train: 37.05% | Batch: 0.48\n",
      "Epoch\" 21/40 | Loss:1162.544870376587 | Loss: 2.8991 | Acc_train: 36.56% | Batch: 0.64\n",
      "Epoch\" 21/40 | Loss:1452.1944782733917 | Loss: 2.8986 | Acc_train: 36.58% | Batch: 0.8\n",
      "Epoch\" 21/40 | Loss:1745.2798612117767 | Loss: 2.9040 | Acc_train: 36.45% | Batch: 0.96\n",
      "Epoch\" 22/40 | Loss:287.6322429180145 | Loss: 2.8478 | Acc_train: 37.33% | Batch: 0.16\n",
      "Epoch\" 22/40 | Loss:579.7995715141296 | Loss: 2.8846 | Acc_train: 36.73% | Batch: 0.32\n",
      "Epoch\" 22/40 | Loss:868.0722978115082 | Loss: 2.8840 | Acc_train: 37.09% | Batch: 0.48\n",
      "Epoch\" 22/40 | Loss:1156.9276177883148 | Loss: 2.8851 | Acc_train: 37.05% | Batch: 0.64\n",
      "Epoch\" 22/40 | Loss:1448.1297314167023 | Loss: 2.8905 | Acc_train: 36.97% | Batch: 0.8\n",
      "Epoch\" 22/40 | Loss:1736.9853596687317 | Loss: 2.8902 | Acc_train: 36.98% | Batch: 0.96\n",
      "Epoch\" 23/40 | Loss:284.8127992153168 | Loss: 2.8199 | Acc_train: 38.02% | Batch: 0.16\n",
      "Epoch\" 23/40 | Loss:573.0314190387726 | Loss: 2.8509 | Acc_train: 37.97% | Batch: 0.32\n",
      "Epoch\" 23/40 | Loss:863.8116002082825 | Loss: 2.8698 | Acc_train: 37.51% | Batch: 0.48\n",
      "Epoch\" 23/40 | Loss:1154.3998527526855 | Loss: 2.8788 | Acc_train: 37.15% | Batch: 0.64\n",
      "Epoch\" 23/40 | Loss:1442.558699131012 | Loss: 2.8794 | Acc_train: 37.03% | Batch: 0.8\n",
      "Epoch\" 23/40 | Loss:1731.4477109909058 | Loss: 2.8809 | Acc_train: 36.91% | Batch: 0.96\n",
      "Epoch\" 24/40 | Loss:284.9302182197571 | Loss: 2.8211 | Acc_train: 37.67% | Batch: 0.16\n",
      "Epoch\" 24/40 | Loss:570.5943651199341 | Loss: 2.8388 | Acc_train: 37.91% | Batch: 0.32\n",
      "Epoch\" 24/40 | Loss:859.8838627338409 | Loss: 2.8568 | Acc_train: 37.70% | Batch: 0.48\n",
      "Epoch\" 24/40 | Loss:1150.1974375247955 | Loss: 2.8683 | Acc_train: 37.49% | Batch: 0.64\n",
      "Epoch\" 24/40 | Loss:1437.6295959949493 | Loss: 2.8695 | Acc_train: 37.59% | Batch: 0.8\n",
      "Epoch\" 24/40 | Loss:1726.0448021888733 | Loss: 2.8720 | Acc_train: 37.41% | Batch: 0.96\n",
      "Epoch\" 25/40 | Loss:281.91765546798706 | Loss: 2.7913 | Acc_train: 38.25% | Batch: 0.16\n",
      "Epoch\" 25/40 | Loss:567.542643070221 | Loss: 2.8236 | Acc_train: 38.01% | Batch: 0.32\n",
      "Epoch\" 25/40 | Loss:853.9593577384949 | Loss: 2.8371 | Acc_train: 37.89% | Batch: 0.48\n",
      "Epoch\" 25/40 | Loss:1141.7806363105774 | Loss: 2.8473 | Acc_train: 37.67% | Batch: 0.64\n",
      "Epoch\" 25/40 | Loss:1430.053721189499 | Loss: 2.8544 | Acc_train: 37.59% | Batch: 0.8\n",
      "Epoch\" 25/40 | Loss:1714.6004557609558 | Loss: 2.8529 | Acc_train: 37.60% | Batch: 0.96\n",
      "Epoch\" 26/40 | Loss:280.95784091949463 | Loss: 2.7818 | Acc_train: 39.08% | Batch: 0.16\n",
      "Epoch\" 26/40 | Loss:564.1636078357697 | Loss: 2.8068 | Acc_train: 38.69% | Batch: 0.32\n",
      "Epoch\" 26/40 | Loss:848.7797474861145 | Loss: 2.8199 | Acc_train: 38.57% | Batch: 0.48\n",
      "Epoch\" 26/40 | Loss:1136.8056664466858 | Loss: 2.8349 | Acc_train: 38.42% | Batch: 0.64\n",
      "Epoch\" 26/40 | Loss:1425.875880241394 | Loss: 2.8461 | Acc_train: 38.12% | Batch: 0.8\n",
      "Epoch\" 26/40 | Loss:1710.931792497635 | Loss: 2.8468 | Acc_train: 38.18% | Batch: 0.96\n",
      "Epoch\" 27/40 | Loss:279.0267469882965 | Loss: 2.7626 | Acc_train: 39.47% | Batch: 0.16\n",
      "Epoch\" 27/40 | Loss:560.1395897865295 | Loss: 2.7868 | Acc_train: 39.53% | Batch: 0.32\n",
      "Epoch\" 27/40 | Loss:847.0182869434357 | Loss: 2.8140 | Acc_train: 39.16% | Batch: 0.48\n",
      "Epoch\" 27/40 | Loss:1130.9942796230316 | Loss: 2.8204 | Acc_train: 38.91% | Batch: 0.64\n",
      "Epoch\" 27/40 | Loss:1415.427226781845 | Loss: 2.8252 | Acc_train: 38.70% | Batch: 0.8\n",
      "Epoch\" 27/40 | Loss:1701.5898830890656 | Loss: 2.8313 | Acc_train: 38.58% | Batch: 0.96\n",
      "Epoch\" 28/40 | Loss:281.9224121570587 | Loss: 2.7913 | Acc_train: 38.20% | Batch: 0.16\n",
      "Epoch\" 28/40 | Loss:564.1114771366119 | Loss: 2.8065 | Acc_train: 38.66% | Batch: 0.32\n",
      "Epoch\" 28/40 | Loss:848.252415895462 | Loss: 2.8181 | Acc_train: 38.51% | Batch: 0.48\n",
      "Epoch\" 28/40 | Loss:1130.3485050201416 | Loss: 2.8188 | Acc_train: 38.59% | Batch: 0.64\n",
      "Epoch\" 28/40 | Loss:1414.1317989826202 | Loss: 2.8226 | Acc_train: 38.49% | Batch: 0.8\n",
      "Epoch\" 28/40 | Loss:1697.7273752689362 | Loss: 2.8248 | Acc_train: 38.47% | Batch: 0.96\n",
      "Epoch\" 29/40 | Loss:280.8437626361847 | Loss: 2.7806 | Acc_train: 39.31% | Batch: 0.16\n",
      "Epoch\" 29/40 | Loss:559.5362737178802 | Loss: 2.7838 | Acc_train: 39.24% | Batch: 0.32\n",
      "Epoch\" 29/40 | Loss:841.7559154033661 | Loss: 2.7965 | Acc_train: 39.15% | Batch: 0.48\n",
      "Epoch\" 29/40 | Loss:1125.4780666828156 | Loss: 2.8067 | Acc_train: 39.03% | Batch: 0.64\n",
      "Epoch\" 29/40 | Loss:1408.823043346405 | Loss: 2.8120 | Acc_train: 38.94% | Batch: 0.8\n",
      "Epoch\" 29/40 | Loss:1689.623164653778 | Loss: 2.8114 | Acc_train: 39.10% | Batch: 0.96\n",
      "Epoch\" 30/40 | Loss:278.5643050670624 | Loss: 2.7581 | Acc_train: 39.70% | Batch: 0.16\n",
      "Epoch\" 30/40 | Loss:557.4855916500092 | Loss: 2.7736 | Acc_train: 39.36% | Batch: 0.32\n",
      "Epoch\" 30/40 | Loss:838.9385273456573 | Loss: 2.7872 | Acc_train: 39.20% | Batch: 0.48\n",
      "Epoch\" 30/40 | Loss:1120.4506061077118 | Loss: 2.7941 | Acc_train: 39.26% | Batch: 0.64\n",
      "Epoch\" 30/40 | Loss:1401.8315143585205 | Loss: 2.7981 | Acc_train: 39.24% | Batch: 0.8\n",
      "Epoch\" 30/40 | Loss:1682.909682750702 | Loss: 2.8002 | Acc_train: 39.20% | Batch: 0.96\n",
      "Epoch\" 31/40 | Loss:278.0540888309479 | Loss: 2.7530 | Acc_train: 40.36% | Batch: 0.16\n",
      "Epoch\" 31/40 | Loss:556.4203772544861 | Loss: 2.7683 | Acc_train: 39.91% | Batch: 0.32\n",
      "Epoch\" 31/40 | Loss:837.5544145107269 | Loss: 2.7826 | Acc_train: 39.70% | Batch: 0.48\n",
      "Epoch\" 31/40 | Loss:1120.3327143192291 | Loss: 2.7938 | Acc_train: 39.44% | Batch: 0.64\n",
      "Epoch\" 31/40 | Loss:1403.8241913318634 | Loss: 2.8020 | Acc_train: 39.16% | Batch: 0.8\n",
      "Epoch\" 31/40 | Loss:1682.7044961452484 | Loss: 2.7998 | Acc_train: 39.23% | Batch: 0.96\n",
      "Epoch\" 32/40 | Loss:275.10106778144836 | Loss: 2.7238 | Acc_train: 40.92% | Batch: 0.16\n",
      "Epoch\" 32/40 | Loss:554.6678612232208 | Loss: 2.7595 | Acc_train: 39.96% | Batch: 0.32\n",
      "Epoch\" 32/40 | Loss:833.4120457172394 | Loss: 2.7688 | Acc_train: 39.80% | Batch: 0.48\n",
      "Epoch\" 32/40 | Loss:1113.1532974243164 | Loss: 2.7759 | Acc_train: 39.71% | Batch: 0.64\n",
      "Epoch\" 32/40 | Loss:1394.3942341804504 | Loss: 2.7832 | Acc_train: 39.70% | Batch: 0.8\n",
      "Epoch\" 32/40 | Loss:1672.253333568573 | Loss: 2.7825 | Acc_train: 39.60% | Batch: 0.96\n",
      "Epoch\" 33/40 | Loss:276.93237137794495 | Loss: 2.7419 | Acc_train: 39.86% | Batch: 0.16\n",
      "Epoch\" 33/40 | Loss:553.519118309021 | Loss: 2.7538 | Acc_train: 39.98% | Batch: 0.32\n",
      "Epoch\" 33/40 | Loss:832.6165659427643 | Loss: 2.7662 | Acc_train: 39.88% | Batch: 0.48\n",
      "Epoch\" 33/40 | Loss:1114.3619871139526 | Loss: 2.7790 | Acc_train: 39.50% | Batch: 0.64\n",
      "Epoch\" 33/40 | Loss:1391.3922805786133 | Loss: 2.7772 | Acc_train: 39.76% | Batch: 0.8\n",
      "Epoch\" 33/40 | Loss:1670.7716476917267 | Loss: 2.7800 | Acc_train: 39.77% | Batch: 0.96\n",
      "Epoch\" 34/40 | Loss:273.6161832809448 | Loss: 2.7091 | Acc_train: 41.41% | Batch: 0.16\n",
      "Epoch\" 34/40 | Loss:551.4201326370239 | Loss: 2.7434 | Acc_train: 40.76% | Batch: 0.32\n",
      "Epoch\" 34/40 | Loss:826.5341136455536 | Loss: 2.7460 | Acc_train: 41.00% | Batch: 0.48\n",
      "Epoch\" 34/40 | Loss:1103.3920450210571 | Loss: 2.7516 | Acc_train: 40.87% | Batch: 0.64\n",
      "Epoch\" 34/40 | Loss:1383.7191259860992 | Loss: 2.7619 | Acc_train: 40.53% | Batch: 0.8\n",
      "Epoch\" 34/40 | Loss:1663.0151135921478 | Loss: 2.7671 | Acc_train: 40.41% | Batch: 0.96\n",
      "Epoch\" 35/40 | Loss:273.05759835243225 | Loss: 2.7035 | Acc_train: 41.23% | Batch: 0.16\n",
      "Epoch\" 35/40 | Loss:547.6548929214478 | Loss: 2.7247 | Acc_train: 40.98% | Batch: 0.32\n",
      "Epoch\" 35/40 | Loss:823.1629927158356 | Loss: 2.7348 | Acc_train: 40.98% | Batch: 0.48\n",
      "Epoch\" 35/40 | Loss:1098.682157754898 | Loss: 2.7399 | Acc_train: 40.68% | Batch: 0.64\n",
      "Epoch\" 35/40 | Loss:1377.769650220871 | Loss: 2.7500 | Acc_train: 40.46% | Batch: 0.8\n",
      "Epoch\" 35/40 | Loss:1654.604204416275 | Loss: 2.7531 | Acc_train: 40.47% | Batch: 0.96\n",
      "Epoch\" 36/40 | Loss:274.1626133918762 | Loss: 2.7145 | Acc_train: 41.58% | Batch: 0.16\n",
      "Epoch\" 36/40 | Loss:549.1330196857452 | Loss: 2.7320 | Acc_train: 41.15% | Batch: 0.32\n",
      "Epoch\" 36/40 | Loss:821.690004825592 | Loss: 2.7299 | Acc_train: 41.25% | Batch: 0.48\n",
      "Epoch\" 36/40 | Loss:1098.6452655792236 | Loss: 2.7398 | Acc_train: 41.00% | Batch: 0.64\n",
      "Epoch\" 36/40 | Loss:1374.5998396873474 | Loss: 2.7437 | Acc_train: 41.03% | Batch: 0.8\n",
      "Epoch\" 36/40 | Loss:1653.9025161266327 | Loss: 2.7519 | Acc_train: 40.89% | Batch: 0.96\n",
      "Epoch\" 37/40 | Loss:270.89275217056274 | Loss: 2.6821 | Acc_train: 41.94% | Batch: 0.16\n",
      "Epoch\" 37/40 | Loss:543.9345781803131 | Loss: 2.7061 | Acc_train: 41.27% | Batch: 0.32\n",
      "Epoch\" 37/40 | Loss:819.7531726360321 | Loss: 2.7234 | Acc_train: 41.06% | Batch: 0.48\n",
      "Epoch\" 37/40 | Loss:1095.1531777381897 | Loss: 2.7311 | Acc_train: 41.12% | Batch: 0.64\n",
      "Epoch\" 37/40 | Loss:1371.1641120910645 | Loss: 2.7369 | Acc_train: 41.08% | Batch: 0.8\n",
      "Epoch\" 37/40 | Loss:1647.5595984458923 | Loss: 2.7414 | Acc_train: 40.85% | Batch: 0.96\n",
      "Epoch\" 38/40 | Loss:271.8595073223114 | Loss: 2.6917 | Acc_train: 41.86% | Batch: 0.16\n",
      "Epoch\" 38/40 | Loss:546.9807026386261 | Loss: 2.7213 | Acc_train: 41.32% | Batch: 0.32\n",
      "Epoch\" 38/40 | Loss:819.0741412639618 | Loss: 2.7212 | Acc_train: 41.34% | Batch: 0.48\n",
      "Epoch\" 38/40 | Loss:1092.341444015503 | Loss: 2.7240 | Acc_train: 41.35% | Batch: 0.64\n",
      "Epoch\" 38/40 | Loss:1368.8523128032684 | Loss: 2.7322 | Acc_train: 41.28% | Batch: 0.8\n",
      "Epoch\" 38/40 | Loss:1642.1378226280212 | Loss: 2.7323 | Acc_train: 41.46% | Batch: 0.96\n",
      "Epoch\" 39/40 | Loss:272.72469186782837 | Loss: 2.7002 | Acc_train: 41.16% | Batch: 0.16\n",
      "Epoch\" 39/40 | Loss:546.6189060211182 | Loss: 2.7195 | Acc_train: 40.92% | Batch: 0.32\n",
      "Epoch\" 39/40 | Loss:815.1051998138428 | Loss: 2.7080 | Acc_train: 41.35% | Batch: 0.48\n",
      "Epoch\" 39/40 | Loss:1088.201848268509 | Loss: 2.7137 | Acc_train: 41.38% | Batch: 0.64\n",
      "Epoch\" 39/40 | Loss:1363.4432892799377 | Loss: 2.7214 | Acc_train: 41.33% | Batch: 0.8\n",
      "Epoch\" 39/40 | Loss:1637.199961423874 | Loss: 2.7241 | Acc_train: 41.33% | Batch: 0.96\n",
      "Epoch\" 40/40 | Loss:271.8072135448456 | Loss: 2.6912 | Acc_train: 41.47% | Batch: 0.16\n",
      "Epoch\" 40/40 | Loss:543.9894564151764 | Loss: 2.7064 | Acc_train: 41.69% | Batch: 0.32\n",
      "Epoch\" 40/40 | Loss:818.4708604812622 | Loss: 2.7192 | Acc_train: 41.22% | Batch: 0.48\n",
      "Epoch\" 40/40 | Loss:1089.9094905853271 | Loss: 2.7180 | Acc_train: 41.43% | Batch: 0.64\n",
      "Epoch\" 40/40 | Loss:1364.1056025028229 | Loss: 2.7228 | Acc_train: 41.42% | Batch: 0.8\n",
      "Epoch\" 40/40 | Loss:1638.3666818141937 | Loss: 2.7261 | Acc_train: 41.29% | Batch: 0.96\n"
     ]
    }
   ],
   "source": [
    "model_train(model,train_loader, criterion, optimizer)\n",
    "val_loss, val_acc = model_val(model, val_loader)"
   ]
  },
  {
   "cell_type": "code",
   "execution_count": 146,
   "id": "32a901e0-788e-42de-9bc0-c5a3d99005e8",
   "metadata": {},
   "outputs": [
    {
     "name": "stdout",
     "output_type": "stream",
     "text": [
      "Val_loss: 0.0160, Val_acc: 56.25%\n"
     ]
    }
   ],
   "source": [
    "print(f'Val_loss: {val_loss:.4f}, Val_acc: {val_acc}%')"
   ]
  },
  {
   "cell_type": "code",
   "execution_count": 147,
   "id": "3034e87e-bce0-4335-b463-5433cad4f112",
   "metadata": {},
   "outputs": [
    {
     "name": "stdout",
     "output_type": "stream",
     "text": [
      "test loss: 0.016217816407513467 | test acc: 48.4375%\n"
     ]
    }
   ],
   "source": [
    "def model_test(model, test_loader):\n",
    "    model.eval()\n",
    "    test_loss = 0.0\n",
    "    correct = 0\n",
    "    total = 0\n",
    "    for images, targets in test_loader:\n",
    "        with torch.no_grad():\n",
    "            images,targets = images.to(device), targets.to(device)\n",
    "            outputs = model(images)\n",
    "\n",
    "            loss = criterion(outputs, targets)\n",
    "            test_loss += loss.item()\n",
    "\n",
    "            _, predicted = outputs.max(1)\n",
    "            total = predicted.size(0)\n",
    "            correct = predicted.eq(targets).sum().item()\n",
    "            return test_loss/len(test_loader), 100.*correct/total\n",
    "test_loss,test_acc = model_test(model, test_loader)\n",
    "print(f\"test loss: {test_loss} | test acc: {test_acc}%\")"
   ]
  },
  {
   "cell_type": "code",
   "execution_count": 148,
   "id": "6f6122a6-f4e7-4a2c-a989-68d460a9f9eb",
   "metadata": {},
   "outputs": [],
   "source": [
    "# ------------- 5 epochs --------------- lr = 3e-3\n",
    "#Acc_train: 26.01%. Val_acc: 28.125% test acc: 29.6875% - no weight_decay/ SGD opimizer\n",
    "#Acc_train: 25.56%  Val_acc: 25.0%   test acc: 35.9375% - AdamW optimizer\n",
    "#Acc_train: 25.09%  Val_acc: 25.0%   test acc: 32.8125% - AdamW with 1e-2 weight_decay\n",
    "# ------------- 5 epochs --------------- lr = 3e-4\n",
    "#Acc_train: 28.55%  Val_acc: 28.125% test acc: 23.4375%\n",
    "# -------------- 40 epochs -------------- lr = 3e-3\n",
    "#Acc_train: 41.29%  Val_acc: 56.25%   test acc: 48.4375% - AdamW"
   ]
  },
  {
   "cell_type": "code",
   "execution_count": 181,
   "id": "f00597d1-01be-48f9-96c6-1c61a041dcbb",
   "metadata": {},
   "outputs": [
    {
     "name": "stdout",
     "output_type": "stream",
     "text": [
      "Files already downloaded and verified\n"
     ]
    }
   ],
   "source": [
    "new_test_dataset = torchvision.datasets.CIFAR10(root=path, download=True,transform=transform)\n",
    "new_test_loader = DataLoader(new_test_dataset, batch_size=32,pin_memory=True, shuffle = False)"
   ]
  },
  {
   "cell_type": "code",
   "execution_count": 197,
   "id": "4684cf0a-ae4f-438c-8bc6-aac41383506e",
   "metadata": {
    "scrolled": true
   },
   "outputs": [],
   "source": [
    "image, label = new_test_dataset[0]"
   ]
  },
  {
   "cell_type": "code",
   "execution_count": 198,
   "id": "1dbf42c9-ef42-4faa-8e61-f6d3b0ad7b2a",
   "metadata": {},
   "outputs": [
    {
     "data": {
      "text/plain": [
       "['airplane',\n",
       " 'automobile',\n",
       " 'bird',\n",
       " 'cat',\n",
       " 'deer',\n",
       " 'dog',\n",
       " 'frog',\n",
       " 'horse',\n",
       " 'ship',\n",
       " 'truck']"
      ]
     },
     "execution_count": 198,
     "metadata": {},
     "output_type": "execute_result"
    }
   ],
   "source": [
    "import matplotlib.pyplot as plt\n",
    "classes = new_test_dataset.classes\n",
    "classes"
   ]
  },
  {
   "cell_type": "code",
   "execution_count": 202,
   "id": "53f2bf6a-7cb7-4b00-9e80-4168f8f48057",
   "metadata": {},
   "outputs": [
    {
     "ename": "TypeError",
     "evalue": "Invalid shape (3, 32, 32) for image data",
     "output_type": "error",
     "traceback": [
      "\u001b[1;31m---------------------------------------------------------------------------\u001b[0m",
      "\u001b[1;31mTypeError\u001b[0m                                 Traceback (most recent call last)",
      "Cell \u001b[1;32mIn[202], line 16\u001b[0m\n\u001b[0;32m     13\u001b[0m     plt\u001b[38;5;241m.\u001b[39mtight_layout()\n\u001b[0;32m     14\u001b[0m     plt\u001b[38;5;241m.\u001b[39mshow()\n\u001b[1;32m---> 16\u001b[0m \u001b[43mdisplay_image\u001b[49m\u001b[43m(\u001b[49m\u001b[43mnew_test_dataset\u001b[49m\u001b[43m,\u001b[49m\u001b[43m \u001b[49m\u001b[43mnum_images\u001b[49m\u001b[38;5;241;43m=\u001b[39;49m\u001b[38;5;241;43m10\u001b[39;49m\u001b[43m,\u001b[49m\u001b[43m \u001b[49m\u001b[43mcols\u001b[49m\u001b[38;5;241;43m=\u001b[39;49m\u001b[38;5;241;43m5\u001b[39;49m\u001b[43m)\u001b[49m\n",
      "Cell \u001b[1;32mIn[202], line 8\u001b[0m, in \u001b[0;36mdisplay_image\u001b[1;34m(datset, num_images, cols)\u001b[0m\n\u001b[0;32m      6\u001b[0m \u001b[38;5;28;01mfor\u001b[39;00m i \u001b[38;5;129;01min\u001b[39;00m \u001b[38;5;28mrange\u001b[39m(num_images):\n\u001b[0;32m      7\u001b[0m     image, label \u001b[38;5;241m=\u001b[39m new_test_dataset[i]\n\u001b[1;32m----> 8\u001b[0m     \u001b[43maxes\u001b[49m\u001b[43m[\u001b[49m\u001b[43mi\u001b[49m\u001b[43m]\u001b[49m\u001b[38;5;241;43m.\u001b[39;49m\u001b[43mimshow\u001b[49m\u001b[43m(\u001b[49m\u001b[43mimage\u001b[49m\u001b[43m)\u001b[49m\n\u001b[0;32m      9\u001b[0m     axes[i]\u001b[38;5;241m.\u001b[39mset_title(\u001b[38;5;124mf\u001b[39m\u001b[38;5;124m'\u001b[39m\u001b[38;5;132;01m{\u001b[39;00mclasses[label]\u001b[38;5;132;01m}\u001b[39;00m\u001b[38;5;124m'\u001b[39m)\n\u001b[0;32m     10\u001b[0m     axes[i]\u001b[38;5;241m.\u001b[39maxis(\u001b[38;5;124m'\u001b[39m\u001b[38;5;124moff\u001b[39m\u001b[38;5;124m'\u001b[39m)\n",
      "File \u001b[1;32m~\\PycharmProjects\\PythonProject2\\.venv\\Lib\\site-packages\\matplotlib\\__init__.py:1521\u001b[0m, in \u001b[0;36m_preprocess_data.<locals>.inner\u001b[1;34m(ax, data, *args, **kwargs)\u001b[0m\n\u001b[0;32m   1518\u001b[0m \u001b[38;5;129m@functools\u001b[39m\u001b[38;5;241m.\u001b[39mwraps(func)\n\u001b[0;32m   1519\u001b[0m \u001b[38;5;28;01mdef\u001b[39;00m \u001b[38;5;21minner\u001b[39m(ax, \u001b[38;5;241m*\u001b[39margs, data\u001b[38;5;241m=\u001b[39m\u001b[38;5;28;01mNone\u001b[39;00m, \u001b[38;5;241m*\u001b[39m\u001b[38;5;241m*\u001b[39mkwargs):\n\u001b[0;32m   1520\u001b[0m     \u001b[38;5;28;01mif\u001b[39;00m data \u001b[38;5;129;01mis\u001b[39;00m \u001b[38;5;28;01mNone\u001b[39;00m:\n\u001b[1;32m-> 1521\u001b[0m         \u001b[38;5;28;01mreturn\u001b[39;00m \u001b[43mfunc\u001b[49m\u001b[43m(\u001b[49m\n\u001b[0;32m   1522\u001b[0m \u001b[43m            \u001b[49m\u001b[43max\u001b[49m\u001b[43m,\u001b[49m\n\u001b[0;32m   1523\u001b[0m \u001b[43m            \u001b[49m\u001b[38;5;241;43m*\u001b[39;49m\u001b[38;5;28;43mmap\u001b[39;49m\u001b[43m(\u001b[49m\u001b[43mcbook\u001b[49m\u001b[38;5;241;43m.\u001b[39;49m\u001b[43msanitize_sequence\u001b[49m\u001b[43m,\u001b[49m\u001b[43m \u001b[49m\u001b[43margs\u001b[49m\u001b[43m)\u001b[49m\u001b[43m,\u001b[49m\n\u001b[0;32m   1524\u001b[0m \u001b[43m            \u001b[49m\u001b[38;5;241;43m*\u001b[39;49m\u001b[38;5;241;43m*\u001b[39;49m\u001b[43m{\u001b[49m\u001b[43mk\u001b[49m\u001b[43m:\u001b[49m\u001b[43m \u001b[49m\u001b[43mcbook\u001b[49m\u001b[38;5;241;43m.\u001b[39;49m\u001b[43msanitize_sequence\u001b[49m\u001b[43m(\u001b[49m\u001b[43mv\u001b[49m\u001b[43m)\u001b[49m\u001b[43m \u001b[49m\u001b[38;5;28;43;01mfor\u001b[39;49;00m\u001b[43m \u001b[49m\u001b[43mk\u001b[49m\u001b[43m,\u001b[49m\u001b[43m \u001b[49m\u001b[43mv\u001b[49m\u001b[43m \u001b[49m\u001b[38;5;129;43;01min\u001b[39;49;00m\u001b[43m \u001b[49m\u001b[43mkwargs\u001b[49m\u001b[38;5;241;43m.\u001b[39;49m\u001b[43mitems\u001b[49m\u001b[43m(\u001b[49m\u001b[43m)\u001b[49m\u001b[43m}\u001b[49m\u001b[43m)\u001b[49m\n\u001b[0;32m   1526\u001b[0m     bound \u001b[38;5;241m=\u001b[39m new_sig\u001b[38;5;241m.\u001b[39mbind(ax, \u001b[38;5;241m*\u001b[39margs, \u001b[38;5;241m*\u001b[39m\u001b[38;5;241m*\u001b[39mkwargs)\n\u001b[0;32m   1527\u001b[0m     auto_label \u001b[38;5;241m=\u001b[39m (bound\u001b[38;5;241m.\u001b[39marguments\u001b[38;5;241m.\u001b[39mget(label_namer)\n\u001b[0;32m   1528\u001b[0m                   \u001b[38;5;129;01mor\u001b[39;00m bound\u001b[38;5;241m.\u001b[39mkwargs\u001b[38;5;241m.\u001b[39mget(label_namer))\n",
      "File \u001b[1;32m~\\PycharmProjects\\PythonProject2\\.venv\\Lib\\site-packages\\matplotlib\\axes\\_axes.py:5945\u001b[0m, in \u001b[0;36mAxes.imshow\u001b[1;34m(self, X, cmap, norm, aspect, interpolation, alpha, vmin, vmax, colorizer, origin, extent, interpolation_stage, filternorm, filterrad, resample, url, **kwargs)\u001b[0m\n\u001b[0;32m   5942\u001b[0m \u001b[38;5;28;01mif\u001b[39;00m aspect \u001b[38;5;129;01mis\u001b[39;00m \u001b[38;5;129;01mnot\u001b[39;00m \u001b[38;5;28;01mNone\u001b[39;00m:\n\u001b[0;32m   5943\u001b[0m     \u001b[38;5;28mself\u001b[39m\u001b[38;5;241m.\u001b[39mset_aspect(aspect)\n\u001b[1;32m-> 5945\u001b[0m \u001b[43mim\u001b[49m\u001b[38;5;241;43m.\u001b[39;49m\u001b[43mset_data\u001b[49m\u001b[43m(\u001b[49m\u001b[43mX\u001b[49m\u001b[43m)\u001b[49m\n\u001b[0;32m   5946\u001b[0m im\u001b[38;5;241m.\u001b[39mset_alpha(alpha)\n\u001b[0;32m   5947\u001b[0m \u001b[38;5;28;01mif\u001b[39;00m im\u001b[38;5;241m.\u001b[39mget_clip_path() \u001b[38;5;129;01mis\u001b[39;00m \u001b[38;5;28;01mNone\u001b[39;00m:\n\u001b[0;32m   5948\u001b[0m     \u001b[38;5;66;03m# image does not already have clipping set, clip to Axes patch\u001b[39;00m\n",
      "File \u001b[1;32m~\\PycharmProjects\\PythonProject2\\.venv\\Lib\\site-packages\\matplotlib\\image.py:675\u001b[0m, in \u001b[0;36m_ImageBase.set_data\u001b[1;34m(self, A)\u001b[0m\n\u001b[0;32m    673\u001b[0m \u001b[38;5;28;01mif\u001b[39;00m \u001b[38;5;28misinstance\u001b[39m(A, PIL\u001b[38;5;241m.\u001b[39mImage\u001b[38;5;241m.\u001b[39mImage):\n\u001b[0;32m    674\u001b[0m     A \u001b[38;5;241m=\u001b[39m pil_to_array(A)  \u001b[38;5;66;03m# Needed e.g. to apply png palette.\u001b[39;00m\n\u001b[1;32m--> 675\u001b[0m \u001b[38;5;28mself\u001b[39m\u001b[38;5;241m.\u001b[39m_A \u001b[38;5;241m=\u001b[39m \u001b[38;5;28;43mself\u001b[39;49m\u001b[38;5;241;43m.\u001b[39;49m\u001b[43m_normalize_image_array\u001b[49m\u001b[43m(\u001b[49m\u001b[43mA\u001b[49m\u001b[43m)\u001b[49m\n\u001b[0;32m    676\u001b[0m \u001b[38;5;28mself\u001b[39m\u001b[38;5;241m.\u001b[39m_imcache \u001b[38;5;241m=\u001b[39m \u001b[38;5;28;01mNone\u001b[39;00m\n\u001b[0;32m    677\u001b[0m \u001b[38;5;28mself\u001b[39m\u001b[38;5;241m.\u001b[39mstale \u001b[38;5;241m=\u001b[39m \u001b[38;5;28;01mTrue\u001b[39;00m\n",
      "File \u001b[1;32m~\\PycharmProjects\\PythonProject2\\.venv\\Lib\\site-packages\\matplotlib\\image.py:643\u001b[0m, in \u001b[0;36m_ImageBase._normalize_image_array\u001b[1;34m(A)\u001b[0m\n\u001b[0;32m    641\u001b[0m     A \u001b[38;5;241m=\u001b[39m A\u001b[38;5;241m.\u001b[39msqueeze(\u001b[38;5;241m-\u001b[39m\u001b[38;5;241m1\u001b[39m)  \u001b[38;5;66;03m# If just (M, N, 1), assume scalar and apply colormap.\u001b[39;00m\n\u001b[0;32m    642\u001b[0m \u001b[38;5;28;01mif\u001b[39;00m \u001b[38;5;129;01mnot\u001b[39;00m (A\u001b[38;5;241m.\u001b[39mndim \u001b[38;5;241m==\u001b[39m \u001b[38;5;241m2\u001b[39m \u001b[38;5;129;01mor\u001b[39;00m A\u001b[38;5;241m.\u001b[39mndim \u001b[38;5;241m==\u001b[39m \u001b[38;5;241m3\u001b[39m \u001b[38;5;129;01mand\u001b[39;00m A\u001b[38;5;241m.\u001b[39mshape[\u001b[38;5;241m-\u001b[39m\u001b[38;5;241m1\u001b[39m] \u001b[38;5;129;01min\u001b[39;00m [\u001b[38;5;241m3\u001b[39m, \u001b[38;5;241m4\u001b[39m]):\n\u001b[1;32m--> 643\u001b[0m     \u001b[38;5;28;01mraise\u001b[39;00m \u001b[38;5;167;01mTypeError\u001b[39;00m(\u001b[38;5;124mf\u001b[39m\u001b[38;5;124m\"\u001b[39m\u001b[38;5;124mInvalid shape \u001b[39m\u001b[38;5;132;01m{\u001b[39;00mA\u001b[38;5;241m.\u001b[39mshape\u001b[38;5;132;01m}\u001b[39;00m\u001b[38;5;124m for image data\u001b[39m\u001b[38;5;124m\"\u001b[39m)\n\u001b[0;32m    644\u001b[0m \u001b[38;5;28;01mif\u001b[39;00m A\u001b[38;5;241m.\u001b[39mndim \u001b[38;5;241m==\u001b[39m \u001b[38;5;241m3\u001b[39m:\n\u001b[0;32m    645\u001b[0m     \u001b[38;5;66;03m# If the input data has values outside the valid range (after\u001b[39;00m\n\u001b[0;32m    646\u001b[0m     \u001b[38;5;66;03m# normalisation), we issue a warning and then clip X to the bounds\u001b[39;00m\n\u001b[0;32m    647\u001b[0m     \u001b[38;5;66;03m# - otherwise casting wraps extreme values, hiding outliers and\u001b[39;00m\n\u001b[0;32m    648\u001b[0m     \u001b[38;5;66;03m# making reliable interpretation impossible.\u001b[39;00m\n\u001b[0;32m    649\u001b[0m     high \u001b[38;5;241m=\u001b[39m \u001b[38;5;241m255\u001b[39m \u001b[38;5;28;01mif\u001b[39;00m np\u001b[38;5;241m.\u001b[39missubdtype(A\u001b[38;5;241m.\u001b[39mdtype, np\u001b[38;5;241m.\u001b[39minteger) \u001b[38;5;28;01melse\u001b[39;00m \u001b[38;5;241m1\u001b[39m\n",
      "\u001b[1;31mTypeError\u001b[0m: Invalid shape (3, 32, 32) for image data"
     ]
    },
    {
     "data": {
      "image/png": "[encoded data removed]",
      "text/plain": [
       "<Figure size 1500x600 with 70 Axes>"
      ]
     },
     "metadata": {},
     "output_type": "display_data"
    }
   ],
   "source": [
    "def display_image(datset, num_images = 10, cols = 5):\n",
    "    rows = (num_images + cols - 1)\n",
    "    fig, axes = plt.subplots(rows, cols, figsize=(15, 6))\n",
    "    axes = axes.flatten()\n",
    "\n",
    "    for i in range(num_images):\n",
    "        image, label = new_test_dataset[i]\n",
    "        axes[i].imshow(image)\n",
    "        axes[i].set_title(f'{classes[label]}')\n",
    "        axes[i].axis('off')\n",
    "    for i in range(num_images, len(axes)):\n",
    "        axes[i].axis('off')\n",
    "    plt.tight_layout()\n",
    "    plt.show()\n",
    "    \n",
    "display_image(new_test_dataset, num_images=10, cols=5)"
   ]
  },
  {
   "cell_type": "code",
   "execution_count": null,
   "id": "7682ca96-44f1-448f-843e-0576e4bdceb6",
   "metadata": {},
   "outputs": [],
   "source": []
  }
 ],
 "metadata": {
  "kernelspec": {
   "display_name": "Python 3 (ipykernel)",
   "language": "python",
   "name": "python3"
  },
  "language_info": {
   "codemirror_mode": {
    "name": "ipython",
    "version": 3
   },
   "file_extension": ".py",
   "mimetype": "text/x-python",
   "name": "python",
   "nbconvert_exporter": "python",
   "pygments_lexer": "ipython3",
   "version": "3.12.0"
  }
 },
 "nbformat": 4,
 "nbformat_minor": 5
}
